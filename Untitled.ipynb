{
 "cells": [
  {
   "cell_type": "code",
   "execution_count": 643,
   "id": "92c4044c",
   "metadata": {},
   "outputs": [
    {
     "name": "stdout",
     "output_type": "stream",
     "text": [
      "4233\n"
     ]
    }
   ],
   "source": [
    "l=[4,2,3,2]\n",
    "n=len(l)-1\n",
    "sum=0\n",
    "for i in l:\n",
    "    sum += i*(10**(n))\n",
    "    n-=1\n",
    "sum+=1\n",
    "print(sum)\n"
   ]
  },
  {
   "cell_type": "code",
   "execution_count": 39,
   "id": "a646365a",
   "metadata": {},
   "outputs": [
    {
     "name": "stdout",
     "output_type": "stream",
     "text": [
      "[5, 8]\n"
     ]
    }
   ],
   "source": [
    "l=[4,2,3,2,3,5,6,4,6,3,8]\n",
    "li=[]\n",
    "for i in range(len(l)):\n",
    "    count=0\n",
    "    for j in range(len(l)):\n",
    "        if l[i] == l[j] and i!=j:\n",
    "            count=1\n",
    "            break\n",
    "    if count==0:\n",
    "        li.append(l[i])\n",
    "print(li)"
   ]
  },
  {
   "cell_type": "code",
   "execution_count": 37,
   "id": "57ad2669",
   "metadata": {},
   "outputs": [
    {
     "name": "stdout",
     "output_type": "stream",
     "text": [
      "[2, 2, 3, 3, 3, 4, 4, 5, 6, 6, 8]\n"
     ]
    }
   ],
   "source": [
    "a=[4,2,3,2,3,5,6,4,6,3,8]\n",
    "li=[]\n",
    "count=0\n",
    "l.sort()\n",
    "for i in range(len(a)):\n",
    "    if a[i]==a[i+1]:\n",
    "        count+=1\n",
    "    "
   ]
  },
  {
   "cell_type": "code",
   "execution_count": 43,
   "id": "cd9a0e77",
   "metadata": {},
   "outputs": [
    {
     "name": "stdout",
     "output_type": "stream",
     "text": [
      "10\n"
     ]
    }
   ],
   "source": []
  },
  {
   "cell_type": "code",
   "execution_count": 68,
   "id": "c3853f49",
   "metadata": {},
   "outputs": [
    {
     "name": "stdout",
     "output_type": "stream",
     "text": [
      "(1, 1, 1, 1, 1)\n",
      "(1, 1, 1, 1, 2)\n",
      "(1, 1, 1, 2, 2)\n",
      "(1, 1, 2, 2, 2)\n",
      "(1, 2, 2, 2, 2)\n",
      "(2, 2, 2, 2, 2)\n"
     ]
    }
   ],
   "source": [
    "from itertools import combinations_with_replacement \n",
    "  \n",
    "# Get all combinations of [1, 2, 3] and length 2 \n",
    "comb = combinations_with_replacement([1, 2], 5)\n",
    "# Print the obtained combinations \n",
    "for i in list(comb): \n",
    "    print(i)"
   ]
  },
  {
   "cell_type": "code",
   "execution_count": 83,
   "id": "5129c288",
   "metadata": {},
   "outputs": [
    {
     "data": {
      "text/plain": [
       "6"
      ]
     },
     "execution_count": 83,
     "metadata": {},
     "output_type": "execute_result"
    }
   ],
   "source": [
    "words = []\n",
    "str=\"luffy is still joyboy\"\n",
    "words = str.split()\n",
    "len(words[-1])"
   ]
  },
  {
   "cell_type": "code",
   "execution_count": 87,
   "id": "9a3a2bf6",
   "metadata": {},
   "outputs": [
    {
     "ename": "IndexError",
     "evalue": "list index out of range",
     "output_type": "error",
     "traceback": [
      "\u001b[1;31m---------------------------------------------------------------------------\u001b[0m",
      "\u001b[1;31mIndexError\u001b[0m                                Traceback (most recent call last)",
      "Cell \u001b[1;32mIn[87], line 3\u001b[0m\n\u001b[0;32m      1\u001b[0m a\u001b[38;5;241m=\u001b[39m[\u001b[38;5;241m7\u001b[39m,\u001b[38;5;241m1\u001b[39m,\u001b[38;5;241m0\u001b[39m,\u001b[38;5;241m1\u001b[39m,\u001b[38;5;241m0\u001b[39m]\n\u001b[0;32m      2\u001b[0m \u001b[38;5;28;01mfor\u001b[39;00m i \u001b[38;5;129;01min\u001b[39;00m a:\n\u001b[1;32m----> 3\u001b[0m     \u001b[38;5;28mprint\u001b[39m(i,\u001b[43ma\u001b[49m\u001b[43m[\u001b[49m\u001b[43mi\u001b[49m\u001b[43m]\u001b[49m)\n",
      "\u001b[1;31mIndexError\u001b[0m: list index out of range"
     ]
    }
   ],
   "source": [
    "a=[7,1,0,1,0]\n",
    "for i in a:\n",
    "    print(i,a[i])"
   ]
  },
  {
   "cell_type": "code",
   "execution_count": 93,
   "id": "f83efb93",
   "metadata": {},
   "outputs": [
    {
     "name": "stdout",
     "output_type": "stream",
     "text": [
      "1.0\n"
     ]
    }
   ],
   "source": [
    "from math import factorial as fac\n",
    "n=2\n",
    "comb = fac(n)/(fac(2)*fac((n-2)))\n",
    "print(comb)"
   ]
  },
  {
   "cell_type": "code",
   "execution_count": 100,
   "id": "0324b7af",
   "metadata": {},
   "outputs": [
    {
     "data": {
      "text/plain": [
       "(8, 1)"
      ]
     },
     "execution_count": 100,
     "metadata": {},
     "output_type": "execute_result"
    }
   ],
   "source": [
    "a=[7,1,4,1,8,4]\n",
    "lar,sma = max(a),min(a)\n",
    "lar,sma\n",
    "res=0\n",
    "count=0\n",
    "for i in range(sma,lar):\n",
    "    counts= count(i)\n",
    "    res=max(res,count)"
   ]
  },
  {
   "cell_type": "code",
   "execution_count": 272,
   "id": "794a79c4",
   "metadata": {
    "scrolled": false
   },
   "outputs": [
    {
     "name": "stdout",
     "output_type": "stream",
     "text": [
      "[[6, 6], [6, 2], [6, 6], [6, 5], [6, 1], [6, 2], [2, 6], [2, 2], [2, 6], [2, 5], [2, 1], [2, 2], [6, 6], [6, 2], [6, 6], [6, 5], [6, 1], [6, 2], [5, 6], [5, 2], [5, 6], [5, 5], [5, 1], [5, 2], [1, 6], [1, 2], [1, 6], [1, 5], [1, 1], [1, 2], [2, 6], [2, 2], [2, 6], [2, 5], [2, 1], [2, 2]]\n",
      "[[6, 2], [2, 1], [6, 2], [5, 2], [1, 2], [2, 2], [2, 1], [2, 1], [2, 1], [2, 1], [1, 1], [2, 1], [6, 2], [2, 1], [6, 5], [5, 5], [1, 2], [2, 5]]\n",
      "11\n"
     ]
    }
   ],
   "source": [
    "                                                                                                                                                            nums = [6,2,6,5,1,2]\n",
    "new = []\n",
    "lar = 0\n",
    "import itertools\n",
    "combinations = []\n",
    "# for combination in itertools.combinations(nums, 2):\n",
    "#     combinations.append(combination)\n",
    "for i in nums:\n",
    "    for j in nums:\n",
    "        a=[]\n",
    "        a.append(i)\n",
    "        a.append(j)\n",
    "        combinations.append(a)\n",
    "i=0\n",
    "j=len(combinations)-1\n",
    "while i<=j:\n",
    "    b=[]\n",
    "    b.append(min(combinations[i]))\n",
    "    b.append(min(combinations[j]))\n",
    "    new.append(b)\n",
    "    i+=1\n",
    "    j-=1\n",
    "for i in range(len(new)):\n",
    "    j=0\n",
    "    res = new[i][j]+new[i][j+1]\n",
    "    if lar<res:\n",
    "        lar=res\n",
    "print(combinations)\n",
    "print(new)\n",
    "print(lar)"
   ]
  },
  {
   "cell_type": "code",
   "execution_count": null,
   "id": "ea464e60",
   "metadata": {},
   "outputs": [],
   "source": [
    "nums1 = [                                           ,1,2], nums2 = [1,3,4,2]\n",
    "for i in nums1:\n",
    "    "
   ]
  },
  {
   "cell_type": "code",
   "execution_count": null,
   "id": "d949c11c",
   "metadata": {},
   "outputs": [],
   "source": []
  },
  {
   "cell_type": "markdown",
   "id": "48884714",
   "metadata": {},
   "source": [
    "# Linked List\n"
   ]
  },
  {
   "cell_type": "code",
   "execution_count": 695,
   "id": "24999929",
   "metadata": {},
   "outputs": [],
   "source": [
    "class Node():\n",
    "    def __init__(self, data):\n",
    "        self.data = data\n",
    "        self.prev = None\n",
    "        self.next = None  \n",
    "class Linkedlist:\n",
    "    def __init__(self): \n",
    "        self.head = None\n",
    "    def push(self,data):\n",
    "        new_node = Node(data)\n",
    "        new_node.next = self.head\n",
    "        self.head=new_node\n",
    "    def insertAfter(self,prev_node,data):\n",
    "        if prev_node==None:\n",
    "            print(\"There is no node in linked list\")\n",
    "            return\n",
    "        new_node = Node(data)\n",
    "        new_node.next = prev_node.next\n",
    "        prev_node.next = new_node\n",
    "    def append(self,data):\n",
    "        new_node = Node(data)\n",
    "        if self.head==None:\n",
    "            self.head = new_node\n",
    "            return\n",
    "        last = self.head\n",
    "        while(last.next):\n",
    "            last=last.next\n",
    "        last.next=new_node\n",
    "        \n",
    "    def printList(self):\n",
    "        temp = self.head\n",
    "        while(temp):\n",
    "            print(temp.data,end=\" \")\n",
    "            temp = temp.next\n",
    "    def deleteNode(self,key):\n",
    "        temp = self.head\n",
    "        if temp.data == key:\n",
    "            temp=self.head.next\n",
    "            self.head=temp\n",
    "            return\n",
    "        while(temp):\n",
    "            if temp.data == key:\n",
    "                break\n",
    "            prev=temp\n",
    "            temp=temp.next\n",
    "        prev.next = temp.next\n",
    "    def deleteindex(self,index):\n",
    "        i=1\n",
    "        temp = self.head\n",
    "        while temp and i<index:\n",
    "            prev = temp\n",
    "            temp = temp.next\n",
    "            i+=1\n",
    "        if i<index:\n",
    "            print(\"The index is out of range\")\n",
    "        elif i==1:\n",
    "            self.head=self.head.next\n",
    "        else:\n",
    "            prev.next = temp.next\n",
    "    def insetAfterAndBefore(self,index,data1,data2):\n",
    "        i=1\n",
    "        temp = self.head\n",
    "        while temp and i<index:\n",
    "            prev = temp\n",
    "            temp = temp.next\n",
    "            i+=1\n",
    "        if i<index:\n",
    "            print(\"The index is out of range\")\n",
    "        else: \n",
    "            node1 = Node(data1)\n",
    "            node2 = Node(data2)\n",
    "            prev.next=node1\n",
    "            node1.next=temp\n",
    "            node2.next=temp.next\n",
    "            temp.next=node2\n",
    "    def removeDup(self):\n",
    "        temp=self.head\n",
    "        while temp.next:\n",
    "            if temp.data == temp.next.data:\n",
    "                temp.next=temp.next.next\n",
    "            else:\n",
    "                temp=temp.next\n",
    "    def revrseprint(self):\n",
    "        temp = self.head\n",
    "        stack=[]\n",
    "        while temp:\n",
    "            stack.append(temp)\n",
    "            temp = temp.next\n",
    "        while len(stack):\n",
    "            print(stack.pop().data,end=\" \")\n",
    "    def arrayToLinkedlist(self,arr):\n",
    "        for i in arr:\n",
    "            self.push(i)\n",
    "    def sortLink(self):\n",
    "        temp= prev = self.head\n",
    "        while temp.next:\n",
    "            if temp.data<temp.next.data:\n",
    "                x = temp.data\n",
    "                temp.data = temp.next.data\n",
    "                temp.next.data = x\n",
    "                temp = prev\n",
    "            else:\n",
    "                prev = temp\n",
    "                temp = temp.next\n",
    "                \n",
    "            temp = temp.next\n",
    "    def LinkToArray(self):\n",
    "        arr = []\n",
    "        temp = self.head\n",
    "        while temp:\n",
    "            arr.append(temp.data)\n",
    "            temp = temp.next\n",
    "        return arr\n",
    "    def ReverseLink(self):\n",
    "        current = self.head\n",
    "        prev = None\n",
    "        while current:\n",
    "            temp = current\n",
    "            current = current.next\n",
    "            temp.next = prev\n",
    "            prev = temp\n",
    "        self.head = prev\n",
    "    def middle(self):\n",
    "        fast = self.head\n",
    "        slow = self.head\n",
    "        \n",
    "        while fast:\n",
    "            fast = fast.next.next\n",
    "            slow = slow.next\n",
    "#         print('\\n{}\\n'.format(slow.data))\n",
    "        return slow\n",
    "    def reverseMid(self):\n",
    "        current = self.head\n",
    "        last = self.middle()\n",
    "        print(last.data)\n",
    "        while current:\n",
    "            if current == last:\n",
    "                break\n",
    "            temp = current.data\n",
    "            current.data = current.next.data\n",
    "            current.next.data = temp\n",
    "            current = current.next"
   ]
  },
  {
   "cell_type": "code",
   "execution_count": 696,
   "id": "40117d12",
   "metadata": {},
   "outputs": [
    {
     "name": "stdout",
     "output_type": "stream",
     "text": [
      "\n",
      "Before deletion\n",
      "1 2 3 4 4 \n",
      "After deletion\n",
      "1 4 4 \n",
      "After addnig\n",
      "1 4 8 4 9 \n",
      "After remove dupes\n",
      "1 4 8 4 9 \n",
      "Array\n",
      "9 8 6 4 2 1 4 8 4 9 "
     ]
    }
   ],
   "source": [
    "list = Linkedlist()\n",
    "list.push(4)\n",
    "list.push(2)\n",
    "list.push(1)\n",
    "list.append(4)\n",
    "list.insertAfter(list.head.next,3)\n",
    "print(\"\\nBefore deletion\")\n",
    "list.printList()\n",
    "print(\"\\nAfter deletion\")\n",
    "list.deleteNode(3)\n",
    "list.deleteindex(2)\n",
    "list.printList()\n",
    "print(\"\\nAfter addnig\")\n",
    "list.insetAfterAndBefore(3,8,9)\n",
    "list.printList()\n",
    "print(\"\\nAfter remove dupes\")\n",
    "list.removeDup()\n",
    "list.printList()\n",
    "print(\"\\nArray\")\n",
    "i=[2,4,6,8,9]\n",
    "list.arrayToLinkedlist(i)\n",
    "list.printList()"
   ]
  },
  {
   "cell_type": "code",
   "execution_count": 698,
   "id": "773e43b8",
   "metadata": {},
   "outputs": [
    {
     "name": "stdout",
     "output_type": "stream",
     "text": [
      "1 2 2 3 4 4 5 6 6 6 7 \n",
      "After removing dups\n",
      "1 2 3 4 5 6 7 \n",
      "Reverse\n",
      "7 6 5 4 3 2 1 \n",
      "Array\n",
      "9 8 6 4 2 1 2 3 4 5 6 7 \n",
      "Reverse whole\n",
      "7 6 5 4 3 2 1 2 4 6 8 9 \n",
      "Sort\n",
      "7 6 5 4 3 2 4 6 8 9 2 1 \n",
      "New Array\n",
      "[7, 6, 5, 4, 3, 2, 4, 6, 8, 9, 2, 1]\n",
      "Mid Sort\n",
      "4\n",
      "6 5 4 3 2 4 7 6 8 9 2 1 "
     ]
    }
   ],
   "source": [
    "l2 = Linkedlist()\n",
    "l2.push(7)\n",
    "l2.push(6)\n",
    "l2.push(6)\n",
    "l2.push(6)\n",
    "l2.push(5)\n",
    "l2.push(4)\n",
    "l2.push(4)\n",
    "l2.push(3)\n",
    "l2.push(2)\n",
    "l2.push(2)\n",
    "l2.push(1)\n",
    "l2.printList()\n",
    "print(\"\\nAfter removing dups\")\n",
    "l2.removeDup()\n",
    "l2.printList()\n",
    "print(\"\\nReverse\")\n",
    "l2.revrseprint()\n",
    "print(\"\\nArray\")\n",
    "i=[2,4,6,8,9]\n",
    "l2.arrayToLinkedlist(i)\n",
    "l2.printList()\n",
    "print(\"\\nReverse whole\")\n",
    "l2.ReverseLink()\n",
    "l2.printList()\n",
    "print(\"\\nSort\")\n",
    "l2.sortLink()\n",
    "l2.printList()\n",
    "print(\"\\nNew Array\")\n",
    "print(l2.LinkToArray())\n",
    "l2.middle()\n",
    "print(\"Mid Sort\")\n",
    "l2.reverseMid()\n",
    "l2.printList()"
   ]
  },
  {
   "cell_type": "code",
   "execution_count": null,
   "id": "a52bf8f8",
   "metadata": {},
   "outputs": [],
   "source": []
  },
  {
   "cell_type": "code",
   "execution_count": 659,
   "id": "3cf9e25c",
   "metadata": {},
   "outputs": [
    {
     "name": "stdout",
     "output_type": "stream",
     "text": [
      "Move disk 1 from rod A to rod C\n",
      "Move disk 2 from rod A to rod B\n",
      "Move disk 1 from rod C to rod B\n",
      "Move disk 3 from rod A to rod C\n",
      "Move disk 1 from rod B to rod A\n",
      "Move disk 2 from rod B to rod C\n",
      "Move disk 1 from rod A to rod C\n"
     ]
    }
   ],
   "source": [
    "def TowerOfHanoi(n, from_rod, to_rod, aux_rod):\n",
    "    if n == 0:\n",
    "        return\n",
    "    TowerOfHanoi(n-1, from_rod, aux_rod, to_rod)\n",
    "    print(\"Move disk\", n, \"from rod\", from_rod, \"to rod\", to_rod)\n",
    "    TowerOfHanoi(n-1, aux_rod, to_rod, from_rod)\n",
    " \n",
    " \n",
    "# Driver code\n",
    "N = 3\n",
    " \n",
    "# A, C, B are the name of rods\n",
    "TowerOfHanoi(N, 'A', 'C', 'B')\n",
    " "
   ]
  },
  {
   "cell_type": "code",
   "execution_count": 332,
   "id": "0e948526",
   "metadata": {},
   "outputs": [
    {
     "name": "stdout",
     "output_type": "stream",
     "text": [
      "True\n",
      "False\n",
      "True\n",
      "False\n",
      "True\n"
     ]
    }
   ],
   "source": [
    "s = \"A man, a plan, a canal: Panama\"\n",
    "d = \"race a car\"\n",
    "e = \" \"\n",
    "c=\"0P\"\n",
    "w=\"0P0\"\n",
    "def is_Pali(s):\n",
    "    s = s.lower()\n",
    "    l=[]\n",
    "    for i in s:\n",
    "        if i.isnumeric() or i.isalpha():\n",
    "            l.append(i)\n",
    "        else:\n",
    "            pass\n",
    "    if l==l[::-1]:\n",
    "        print(True)\n",
    "    else:\n",
    "        print(False)\n",
    "is_Pali(s)\n",
    "is_Pali(d)\n",
    "is_Pali(e)\n",
    "is_Pali(c)\n",
    "is_Pali(w)"
   ]
  },
  {
   "cell_type": "code",
   "execution_count": 335,
   "id": "5280007a",
   "metadata": {},
   "outputs": [
    {
     "data": {
      "text/plain": [
       "'anagram'"
      ]
     },
     "execution_count": 335,
     "metadata": {},
     "output_type": "execute_result"
    }
   ],
   "source": [
    "#242\n",
    "s = \"anagram\"\n",
    "t = \"nagaram\"\n",
    "li = \n",
    "for i in s:\n",
    "    "
   ]
  },
  {
   "cell_type": "code",
   "execution_count": 685,
   "id": "64ffbe95",
   "metadata": {},
   "outputs": [
    {
     "name": "stdout",
     "output_type": "stream",
     "text": [
      "['o', 'l', 'l', 'e', 'h']\n",
      "['o', 'l', 'l', 'e', 'h']\n"
     ]
    }
   ],
   "source": [
    "#344\n",
    "s = [\"h\",\"e\",\"l\",\"l\",\"o\"]\n",
    "w = [\"h\",\"e\",\"l\",\"l\",\"o\"]\n",
    "i=0\n",
    "n=len(s)-1\n",
    "j=len(s)-1\n",
    "while i<=j:\n",
    "    s[i],s[j]=s[j],s[i]\n",
    "    i+=1\n",
    "    j-=1\n",
    "print(s)\n",
    "for i in range(0,n//2):\n",
    "    w[i],w[n-i]=w[n-i],w[i]\n",
    "print(w)"
   ]
  },
  {
   "cell_type": "code",
   "execution_count": 683,
   "id": "d37ba8f1",
   "metadata": {},
   "outputs": [],
   "source": [
    "#345\n",
    "s = \"hello world\"\n",
    "w = \"leetcode\"\n"
   ]
  },
  {
   "cell_type": "markdown",
   "id": "1c595cac",
   "metadata": {},
   "source": [
    "# Doubly Linked List"
   ]
  },
  {
   "cell_type": "code",
   "execution_count": 405,
   "id": "402fef18",
   "metadata": {},
   "outputs": [],
   "source": [
    "class Node:\n",
    "    def __init__(self,data):\n",
    "        self.data = data\n",
    "        self.next = None\n",
    "        self.prev = None\n",
    "class DLL:\n",
    "    def __init__(self):\n",
    "        self.head = None\n",
    "    def push(self,data):\n",
    "        new_node = Node(data)\n",
    "        \n",
    "        if self.head == None:\n",
    "            self.head = new_node\n",
    "            return \n",
    "        new_node.next = self.head\n",
    "        self.head.prev = new_node\n",
    "        self.head = new_node\n",
    "    \n",
    "    def append(self,data):\n",
    "        new_node = Node(data)\n",
    "        temp = self.head\n",
    "        while(temp):\n",
    "            last = temp\n",
    "            temp=temp.next\n",
    "        last.next = new_node\n",
    "        new_node.prev=last\n",
    "    \n",
    "    def insert_After(self,prev_node,data):\n",
    "        new_node = Node(data)\n",
    "        if prev_node == None:\n",
    "            Print(\"There is no node present\")\n",
    "            return\n",
    "        new_node.next = prev_node.next\n",
    "        prev_node.next = new_node\n",
    "        new_node.next.prev = new_node\n",
    "        new_node.prev = prev_node\n",
    "        \n",
    "    def insert_Before(self,next_node,data):\n",
    "        new_node = Node(data)\n",
    "        if next_node == None:\n",
    "            Print(\"There is no node present\")\n",
    "            return\n",
    "        new_node.prev = next_node.prev\n",
    "        next_node.prev.next = new_node\n",
    "        new_node.next = next_node\n",
    "        next_node.prev = new_node\n",
    "    def list_print(self):\n",
    "        temp = self.head\n",
    "        while(temp):\n",
    "            print(temp.data,end=\" \")\n",
    "            last = temp\n",
    "            temp=temp.next\n",
    "        print(\"\\nReverse\")\n",
    "        while(last):\n",
    "            print(last.data,end=\" \")\n",
    "            last=last.prev\n",
    "    def deleteNode(self,key):\n",
    "        temp= self.head\n",
    "        if temp.data == key:\n",
    "            self.head = temp.next\n",
    "            self.head.prev=None\n",
    "            return\n",
    "        while temp:\n",
    "            if temp.data == key:\n",
    "                break\n",
    "            prev=temp\n",
    "            temp=temp.next\n",
    "        prev.next = temp.next\n",
    "        temp.next.prev = prev\n",
    "        \n",
    "                \n",
    "            \n",
    "        "
   ]
  },
  {
   "cell_type": "code",
   "execution_count": 406,
   "id": "60373ebe",
   "metadata": {},
   "outputs": [
    {
     "name": "stdout",
     "output_type": "stream",
     "text": [
      "9 7 5 4 6 3 100 \n",
      "Reverse\n",
      "100 3 6 4 5 7 9 \n",
      "\n",
      "9 7 5 4 6 100 \n",
      "Reverse\n",
      "100 6 4 5 7 9 "
     ]
    }
   ],
   "source": [
    "l3 = DLL()\n",
    "l3.push(3)\n",
    "l3.push(5)\n",
    "l3.push(7)\n",
    "l3.push(9)\n",
    "l3.insert_After(l3.head.next.next,6)\n",
    "l3.insert_Before(l3.head.next.next.next,4)\n",
    "l3.append(100)\n",
    "l3.list_print()\n",
    "print(\"\\n\")\n",
    "l3.deleteNode(3)\n",
    "l3.list_print()"
   ]
  },
  {
   "cell_type": "code",
   "execution_count": null,
   "id": "c39df408",
   "metadata": {},
   "outputs": [],
   "source": []
  },
  {
   "cell_type": "code",
   "execution_count": 540,
   "id": "46046257",
   "metadata": {},
   "outputs": [
    {
     "name": "stdout",
     "output_type": "stream",
     "text": [
      "(7, 8, 9)\n"
     ]
    }
   ],
   "source": [
    "nums = [1,2,3,4,5,6,7,8,9]\n",
    "def threeLarge(nums):\n",
    "    lar = sec_lar = third_lar = nums[0]\n",
    "    for i in range(1,len(nums)):\n",
    "        if lar<nums[i]:\n",
    "            third_lar=sec_lar\n",
    "            sec_lar = lar\n",
    "            lar=nums[i]\n",
    "        elif sec_lar<nums[i]:\n",
    "            third_lar = sec_lar\n",
    "            sec_lar = nums[i]\n",
    "        else:\n",
    "            third_lar = nums[i]\n",
    "    return third_lar,sec_lar,lar\n",
    "        \n",
    "print(threeLarge(nums))\n"
   ]
  },
  {
   "cell_type": "code",
   "execution_count": 687,
   "id": "fb7bf30f",
   "metadata": {},
   "outputs": [
    {
     "name": "stdout",
     "output_type": "stream",
     "text": [
      "e\n",
      "820 ns ± 73 ns per loop (mean ± std. dev. of 7 runs, 1,000,000 loops each)\n"
     ]
    }
   ],
   "source": [
    "#389\n",
    "s = \"abcd\"\n",
    "t = \"abcde\"\n",
    "def repalce(s,t):\n",
    "    if len(s)>len(t):\n",
    "        lar = s\n",
    "        sm = t\n",
    "    else: \n",
    "        lar = t\n",
    "        sm =s\n",
    "    for i in lar:\n",
    "        if i not in sm:\n",
    "            return i\n",
    "print(repalce(s,t))\n",
    "%timeit repalce(s,t)"
   ]
  },
  {
   "cell_type": "code",
   "execution_count": 505,
   "id": "e228fe5d",
   "metadata": {},
   "outputs": [
    {
     "name": "stdout",
     "output_type": "stream",
     "text": [
      "6\n",
      "5\n",
      "Element not found\n",
      "None\n"
     ]
    }
   ],
   "source": [
    "#Binary Search\n",
    " \n",
    "nums = [1,2,3,4,5,6,7,8]\n",
    "num2 = [1,4,6,3,6,8]\n",
    "\n",
    "def binarySearch(arr,key):\n",
    "    arr.sort()\n",
    "    first = 0\n",
    "    last =len(arr)-1\n",
    "    while first<=last:\n",
    "        mid = (first+last)//2\n",
    "        if arr[mid]==key:\n",
    "            return mid\n",
    "        elif key<arr[mid]:\n",
    "            last = mid-1\n",
    "        else:\n",
    "            first = mid+1\n",
    "    return print(\"Element not found\")\n",
    "print(binarySearch(nums,7))\n",
    "print(binarySearch(num2,8))\n",
    "print(binarySearch(nums,12))"
   ]
  },
  {
   "cell_type": "code",
   "execution_count": 501,
   "id": "c6c8bc1a",
   "metadata": {},
   "outputs": [
    {
     "name": "stdout",
     "output_type": "stream",
     "text": [
      "3\n",
      "Element is not present\n"
     ]
    }
   ],
   "source": [
    "#Linear Search\n",
    "nums = [1,4,6,3,6,8]\n",
    "\n",
    "def linearSearch(arr,key):\n",
    "    for i in arr:\n",
    "        if i==key:\n",
    "            return i\n",
    "    return print(\"Element is not present\")\n",
    "print(linearSearch(nums,3))\n",
    "linearSearch(nums,7)"
   ]
  },
  {
   "cell_type": "code",
   "execution_count": 538,
   "id": "d8f660f8",
   "metadata": {},
   "outputs": [
    {
     "data": {
      "text/plain": [
       "[1, 2, 3, 4]"
      ]
     },
     "execution_count": 538,
     "metadata": {},
     "output_type": "execute_result"
    }
   ],
   "source": [
    "#array\n",
    "\n",
    "arr = [ ]\n",
    "\n",
    "def push(arr,data):\n",
    "    n = len(arr)\n",
    "    arr.append(data)\n",
    "    return arr\n",
    "push(arr,1)\n",
    "push(arr,2)\n",
    "push(arr,3)\n",
    "push(arr,4)\n",
    "arr"
   ]
  },
  {
   "cell_type": "code",
   "execution_count": 583,
   "id": "3d21c4c4",
   "metadata": {},
   "outputs": [
    {
     "name": "stdout",
     "output_type": "stream",
     "text": [
      "{1, 2, 3, 4, 5, 6}\n",
      "3\n"
     ]
    }
   ],
   "source": [
    "arr = [3,2,1,5,6,4]\n",
    "K = 10\n",
    "li = []\n",
    "s = set(arr)\n",
    "print(s)\n",
    "for itr in s:\n",
    "    li.append(itr)\n",
    "li.sort()\n",
    "print(li[len(li)-k-1])"
   ]
  },
  {
   "cell_type": "code",
   "execution_count": 623,
   "id": "795ef98b",
   "metadata": {},
   "outputs": [
    {
     "name": "stdout",
     "output_type": "stream",
     "text": [
      "pivot 6\n",
      "pivot 3\n",
      "4\n"
     ]
    }
   ],
   "source": [
    "import random\n",
    "def findKthLargest(nums,k) -> int:\n",
    "\n",
    "    def quickselect(nums, k):\n",
    "\n",
    "        if len(nums)==1:\n",
    "            return nums[0]\n",
    "\n",
    "        pivot = random.choice(nums)\n",
    "        print('pivot',pivot)\n",
    "        G = [i for i in nums if i > pivot]\n",
    "        E = [i for i in nums if i == pivot]\n",
    "        L = [i for i in nums if i < pivot]\n",
    "\n",
    "        if k <= len(G):\n",
    "            return quickselect(G, k)\n",
    "        elif k <= len(G) + len(E):\n",
    "            return pivot\n",
    "        else:\n",
    "            j = k - len(G) - len(E)\n",
    "            return quickselect(L, j)\n",
    "\n",
    "    return quickselect(nums, k)\n",
    "nums = [1,4,6,3,6,8]\n",
    "print(findKthLargest(nums,4))"
   ]
  },
  {
   "cell_type": "code",
   "execution_count": 556,
   "id": "d022e76c",
   "metadata": {},
   "outputs": [
    {
     "name": "stdout",
     "output_type": "stream",
     "text": [
      "[1, 4, 6, 6, 6, 6, 8]\n"
     ]
    },
    {
     "ename": "TypeError",
     "evalue": "'set' object is not callable",
     "output_type": "error",
     "traceback": [
      "\u001b[1;31m---------------------------------------------------------------------------\u001b[0m",
      "\u001b[1;31mTypeError\u001b[0m                                 Traceback (most recent call last)",
      "Cell \u001b[1;32mIn[556], line 6\u001b[0m\n\u001b[0;32m      4\u001b[0m nums \u001b[38;5;241m=\u001b[39m \u001b[38;5;28mset\u001b[39m(nums)\n\u001b[0;32m      5\u001b[0m k\u001b[38;5;241m=\u001b[39m\u001b[38;5;241m3\u001b[39m\n\u001b[1;32m----> 6\u001b[0m \u001b[38;5;28mprint\u001b[39m(\u001b[43mnums\u001b[49m\u001b[43m(\u001b[49m\u001b[43mk\u001b[49m\u001b[43m)\u001b[49m)\n",
      "\u001b[1;31mTypeError\u001b[0m: 'set' object is not callable"
     ]
    }
   ],
   "source": [
    "nums = [1,4,6,6,6,6,8]\n",
    "nums.sort()\n",
    "print(nums)\n",
    "nums = set(nums)\n",
    "k=3\n",
    "print(nums(k))"
   ]
  },
  {
   "cell_type": "code",
   "execution_count": 589,
   "id": "d24517ac",
   "metadata": {},
   "outputs": [
    {
     "name": "stdout",
     "output_type": "stream",
     "text": [
      "{1, 2, 3, 4, 5, 6}\n",
      "5\n"
     ]
    }
   ],
   "source": [
    "arr = [3,2,1,5,6,4]\n",
    "K = 2\n",
    "li = []\n",
    "s = set(arr)\n",
    "print(s)\n",
    "for itr in s:\n",
    "    li.append(itr)\n",
    "li.sort()\n",
    "print(li[len(li)-k+1])"
   ]
  },
  {
   "cell_type": "code",
   "execution_count": 634,
   "id": "c2148f93",
   "metadata": {},
   "outputs": [
    {
     "name": "stdout",
     "output_type": "stream",
     "text": [
      "3\n"
     ]
    }
   ],
   "source": [
    "arr = [3,2,1,5,6,4]\n",
    "k=4\n",
    "def kthMax(arr,k):\n",
    "    i=1\n",
    "    while i<k:\n",
    "        m = max(arr)\n",
    "        arr.remove(m)\n",
    "        i+=1\n",
    "    return(max(arr))\n",
    "print(kthMax(arr,4))"
   ]
  },
  {
   "cell_type": "code",
   "execution_count": 689,
   "id": "3f174501",
   "metadata": {},
   "outputs": [
    {
     "name": "stdout",
     "output_type": "stream",
     "text": [
      "<class 'str'>\n",
      "10044566\n",
      "<class 'int'>\n"
     ]
    }
   ],
   "source": [
    "dic = {'1':1,'2':2,'3':3,'4':4,'5':5,'6':6,'7':7,'8':8,'9':9,'0':0}\n",
    "s = '10044566'\n",
    "print(type(s))\n",
    "def stringToInt(s):\n",
    "    n = len(s)-1\n",
    "    inte = 0\n",
    "    for i in s:\n",
    "        inte += dic[i]*(10**(n))\n",
    "        n-=1\n",
    "    return inte\n",
    "print(stringToInt(s))\n",
    "print(type(stringToInt(s)))"
   ]
  },
  {
   "cell_type": "code",
   "execution_count": 631,
   "id": "0be8156e",
   "metadata": {},
   "outputs": [
    {
     "name": "stdout",
     "output_type": "stream",
     "text": [
      "False\n"
     ]
    }
   ],
   "source": [
    "s=\"sdf\"\n",
    "d=\"sdfs\"\n",
    "def sameString(s,d):\n",
    "    if len(s)!=len(d):\n",
    "        print(\"False\")\n",
    "        return\n",
    "    for i in range(len(s)):\n",
    "        if s[i]!=d[i]:\n",
    "            print(\"False\")\n",
    "            return \n",
    "    print(\"True\")\n",
    "\n",
    "sameString(s,d)\n"
   ]
  },
  {
   "cell_type": "code",
   "execution_count": 638,
   "id": "117d47d0",
   "metadata": {},
   "outputs": [
    {
     "name": "stdout",
     "output_type": "stream",
     "text": [
      "[1, 0, 1, 0, 1, 0, 0, 1, 1]\n"
     ]
    }
   ],
   "source": [
    "def binaryToInt(i):\n",
    "    num = i\n",
    "    binary = []\n",
    "    while num>0:\n",
    "        binary.insert(0,num%2)\n",
    "        num = num//2\n",
    "    return binary\n",
    "num=339\n",
    "print(binaryToInt(num))\n",
    "        "
   ]
  },
  {
   "cell_type": "code",
   "execution_count": 652,
   "id": "ab97b01b",
   "metadata": {},
   "outputs": [
    {
     "name": "stdout",
     "output_type": "stream",
     "text": [
      "8\n"
     ]
    }
   ],
   "source": [
    "#268\n",
    "def missingElement(nums):\n",
    "    m = max(nums)\n",
    "    mi = min(nums)\n",
    "    for i in range(mi,m+1):\n",
    "        if i not in nums:\n",
    "            return i\n",
    "nums = [9,6,4,2,3,5,7,0,1]\n",
    "print(missingElement(nums))"
   ]
  },
  {
   "cell_type": "code",
   "execution_count": 658,
   "id": "4aa97717",
   "metadata": {},
   "outputs": [
    {
     "name": "stdout",
     "output_type": "stream",
     "text": [
      "{2}\n",
      "{9, 4}\n"
     ]
    }
   ],
   "source": [
    "#349\n",
    "def intersection(num1,num2):\n",
    "    s = set()\n",
    "    for i in num1:\n",
    "        if i in num2:\n",
    "            s.add(i)\n",
    "    return s\n",
    "num1 , num2 = [1,2,2,1], [2,2]\n",
    "num3, num4 = [4,9,5], [9,4,9,8,4]\n",
    "\n",
    "print(intersection(num1,num2))\n",
    "print(intersection(num3,num4))"
   ]
  },
  {
   "cell_type": "code",
   "execution_count": 666,
   "id": "258f81af",
   "metadata": {},
   "outputs": [
    {
     "name": "stdout",
     "output_type": "stream",
     "text": [
      "[1, 2, 3, 5, 9]\n"
     ]
    }
   ],
   "source": [
    "def bubbleSort(ar):\n",
    "    n=len(ar)\n",
    "    for i in range(n):\n",
    "        for j in range(n-1):\n",
    "            if ar[j]>ar[j+1]:\n",
    "                ar[j],ar[j+1]=ar[j+1],ar[j]\n",
    "                \n",
    "ar = [1,5,3,2,9]\n",
    "bubbleSort(ar)\n",
    "print(ar)"
   ]
  },
  {
   "cell_type": "code",
   "execution_count": 667,
   "id": "9e6904fd",
   "metadata": {},
   "outputs": [
    {
     "name": "stdout",
     "output_type": "stream",
     "text": [
      "[1, 1, 2, 3, 5, 7, 9]\n"
     ]
    }
   ],
   "source": [
    "def bubbleSort2(ar,n):\n",
    "    for i in range(n-1):\n",
    "        if ar[i]>ar[i+1]:\n",
    "            ar[i+1],ar[i]= ar[i],ar[i+1]\n",
    "        bubbleSort2(ar,n-1)\n",
    "ar = [1,5,3,2,9,1,7]\n",
    "n = len(ar)\n",
    "bubbleSort2(ar,n)\n",
    "print(ar)"
   ]
  },
  {
   "cell_type": "code",
   "execution_count": 668,
   "id": "92ab2b5f",
   "metadata": {},
   "outputs": [
    {
     "name": "stdout",
     "output_type": "stream",
     "text": [
      "[-5, -2, 0, 1.4, 2, 3, 4, 6, 12, 44]\n"
     ]
    }
   ],
   "source": [
    "def selectionSort(ar):\n",
    "    for i in range(0, len(ar)):\n",
    "        min_index = i\n",
    "        for j in range(i+1, len(ar)):\n",
    "            if ar[min_index]>ar[j]:\n",
    "                min_index = j\n",
    "        ar[i], ar[min_index] = ar[min_index], ar[i]\n",
    "\n",
    "ar = [12,4,6,44,2,-2,-5,0,1.4,3]\n",
    "selectionSort(ar)\n",
    "print(ar)"
   ]
  },
  {
   "cell_type": "code",
   "execution_count": 669,
   "id": "944799bb",
   "metadata": {},
   "outputs": [
    {
     "name": "stdout",
     "output_type": "stream",
     "text": [
      "[1, 2, 3, 4, 5, 9]\n"
     ]
    }
   ],
   "source": [
    "def insertionSort(ar):\n",
    "    for i in range(1, len(ar)):\n",
    "        key = ar[i]\n",
    "        j = i-1\n",
    "        while j>=0 and key<ar[j]:\n",
    "            ar[j+1] = ar[j]\n",
    "            j-=1\n",
    "        ar[j+1]=key\n",
    "        \n",
    "ar = [ 4,1,5,3,2,9]\n",
    "insertionSort(ar)\n",
    "print(ar)"
   ]
  },
  {
   "cell_type": "code",
   "execution_count": null,
   "id": "e2543304",
   "metadata": {},
   "outputs": [],
   "source": []
  }
 ],
 "metadata": {
  "kernelspec": {
   "display_name": "Python 3",
   "language": "python",
   "name": "python3"
  },
  "language_info": {
   "codemirror_mode": {
    "name": "ipython",
    "version": 3
   },
   "file_extension": ".py",
   "mimetype": "text/x-python",
   "name": "python",
   "nbconvert_exporter": "python",
   "pygments_lexer": "ipython3",
   "version": "3.10.6 (main, Nov 14 2022, 16:10:14) [GCC 11.3.0]"
  },
  "vscode": {
   "interpreter": {
    "hash": "e7370f93d1d0cde622a1f8e1c04877d8463912d04d973331ad4851f04de6915a"
   }
  }
 },
 "nbformat": 4,
 "nbformat_minor": 5
}
